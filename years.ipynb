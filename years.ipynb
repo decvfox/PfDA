{
 "cells": [
  {
   "cell_type": "code",
   "execution_count": 118,
   "metadata": {},
   "outputs": [],
   "source": [
    "import numpy as np\n",
    "import pandas as pd\n",
    "import matplotlib.pyplot as plt\n",
    "import seaborn as sns\n",
    "from zipfile import ZipFile\n",
    "import io\n",
    "from urllib.request import urlopen\n",
    "import re"
   ]
  },
  {
   "cell_type": "code",
   "execution_count": 119,
   "metadata": {},
   "outputs": [
    {
     "data": {
      "text/html": [
       "<div>\n",
       "<style scoped>\n",
       "    .dataframe tbody tr th:only-of-type {\n",
       "        vertical-align: middle;\n",
       "    }\n",
       "\n",
       "    .dataframe tbody tr th {\n",
       "        vertical-align: top;\n",
       "    }\n",
       "\n",
       "    .dataframe thead th {\n",
       "        text-align: right;\n",
       "    }\n",
       "</style>\n",
       "<table border=\"1\" class=\"dataframe\">\n",
       "  <thead>\n",
       "    <tr style=\"text-align: right;\">\n",
       "      <th></th>\n",
       "      <th>ResponseId</th>\n",
       "      <th>Q120</th>\n",
       "      <th>MainBranch</th>\n",
       "      <th>Age</th>\n",
       "      <th>Employment</th>\n",
       "      <th>RemoteWork</th>\n",
       "      <th>CodingActivities</th>\n",
       "      <th>EdLevel</th>\n",
       "      <th>LearnCode</th>\n",
       "      <th>LearnCodeOnline</th>\n",
       "      <th>...</th>\n",
       "      <th>Frequency_1</th>\n",
       "      <th>Frequency_2</th>\n",
       "      <th>Frequency_3</th>\n",
       "      <th>TimeSearching</th>\n",
       "      <th>TimeAnswering</th>\n",
       "      <th>ProfessionalTech</th>\n",
       "      <th>Industry</th>\n",
       "      <th>SurveyLength</th>\n",
       "      <th>SurveyEase</th>\n",
       "      <th>ConvertedCompYearly</th>\n",
       "    </tr>\n",
       "  </thead>\n",
       "  <tbody>\n",
       "    <tr>\n",
       "      <th>0</th>\n",
       "      <td>1</td>\n",
       "      <td>I agree</td>\n",
       "      <td>None of these</td>\n",
       "      <td>18-24 years old</td>\n",
       "      <td>NaN</td>\n",
       "      <td>NaN</td>\n",
       "      <td>NaN</td>\n",
       "      <td>NaN</td>\n",
       "      <td>NaN</td>\n",
       "      <td>NaN</td>\n",
       "      <td>...</td>\n",
       "      <td>NaN</td>\n",
       "      <td>NaN</td>\n",
       "      <td>NaN</td>\n",
       "      <td>NaN</td>\n",
       "      <td>NaN</td>\n",
       "      <td>NaN</td>\n",
       "      <td>NaN</td>\n",
       "      <td>NaN</td>\n",
       "      <td>NaN</td>\n",
       "      <td>NaN</td>\n",
       "    </tr>\n",
       "  </tbody>\n",
       "</table>\n",
       "<p>1 rows × 84 columns</p>\n",
       "</div>"
      ],
      "text/plain": [
       "   ResponseId     Q120     MainBranch              Age Employment RemoteWork  \\\n",
       "0           1  I agree  None of these  18-24 years old        NaN        NaN   \n",
       "\n",
       "  CodingActivities EdLevel LearnCode LearnCodeOnline  ... Frequency_1  \\\n",
       "0              NaN     NaN       NaN             NaN  ...         NaN   \n",
       "\n",
       "  Frequency_2 Frequency_3 TimeSearching TimeAnswering ProfessionalTech  \\\n",
       "0         NaN         NaN           NaN           NaN              NaN   \n",
       "\n",
       "  Industry SurveyLength SurveyEase ConvertedCompYearly  \n",
       "0      NaN          NaN        NaN                 NaN  \n",
       "\n",
       "[1 rows x 84 columns]"
      ]
     },
     "execution_count": 119,
     "metadata": {},
     "output_type": "execute_result"
    }
   ],
   "source": [
    "r = urlopen('https://cdn.stackoverflow.co/files/jo7n4k8s/production/49915bfd46d0902c3564fd9a06b509d08a20488c.zip/stack-overflow-developer-survey-2023.zip').read()\n",
    "file = ZipFile(io.BytesIO(r))\n",
    "df = pd.read_csv(file.open('survey_results_public.csv'))\n",
    "df.head(1)"
   ]
  },
  {
   "cell_type": "code",
   "execution_count": 120,
   "metadata": {},
   "outputs": [
    {
     "data": {
      "text/html": [
       "<div>\n",
       "<style scoped>\n",
       "    .dataframe tbody tr th:only-of-type {\n",
       "        vertical-align: middle;\n",
       "    }\n",
       "\n",
       "    .dataframe tbody tr th {\n",
       "        vertical-align: top;\n",
       "    }\n",
       "\n",
       "    .dataframe thead th {\n",
       "        text-align: right;\n",
       "    }\n",
       "</style>\n",
       "<table border=\"1\" class=\"dataframe\">\n",
       "  <thead>\n",
       "    <tr style=\"text-align: right;\">\n",
       "      <th></th>\n",
       "      <th>MainBranch</th>\n",
       "      <th>Age</th>\n",
       "      <th>Employment</th>\n",
       "      <th>RemoteWork</th>\n",
       "      <th>CodingActivities</th>\n",
       "      <th>EdLevel</th>\n",
       "      <th>YearsCode</th>\n",
       "      <th>YearsCodePro</th>\n",
       "      <th>LanguageHaveWorkedWith</th>\n",
       "      <th>LanguageWantToWorkWith</th>\n",
       "      <th>ConvertedCompYearly</th>\n",
       "    </tr>\n",
       "  </thead>\n",
       "  <tbody>\n",
       "    <tr>\n",
       "      <th>0</th>\n",
       "      <td>None of these</td>\n",
       "      <td>18-24 years old</td>\n",
       "      <td>NaN</td>\n",
       "      <td>NaN</td>\n",
       "      <td>NaN</td>\n",
       "      <td>NaN</td>\n",
       "      <td>NaN</td>\n",
       "      <td>NaN</td>\n",
       "      <td>NaN</td>\n",
       "      <td>NaN</td>\n",
       "      <td>NaN</td>\n",
       "    </tr>\n",
       "    <tr>\n",
       "      <th>1</th>\n",
       "      <td>I am a developer by profession</td>\n",
       "      <td>25-34 years old</td>\n",
       "      <td>Employed, full-time</td>\n",
       "      <td>Remote</td>\n",
       "      <td>Hobby;Contribute to open-source projects;Boots...</td>\n",
       "      <td>Bachelor’s degree (B.A., B.S., B.Eng., etc.)</td>\n",
       "      <td>18</td>\n",
       "      <td>9</td>\n",
       "      <td>HTML/CSS;JavaScript;Python</td>\n",
       "      <td>Bash/Shell (all shells);C#;Dart;Elixir;GDScrip...</td>\n",
       "      <td>285000.0</td>\n",
       "    </tr>\n",
       "  </tbody>\n",
       "</table>\n",
       "</div>"
      ],
      "text/plain": [
       "                       MainBranch              Age           Employment  \\\n",
       "0                   None of these  18-24 years old                  NaN   \n",
       "1  I am a developer by profession  25-34 years old  Employed, full-time   \n",
       "\n",
       "  RemoteWork                                   CodingActivities  \\\n",
       "0        NaN                                                NaN   \n",
       "1     Remote  Hobby;Contribute to open-source projects;Boots...   \n",
       "\n",
       "                                        EdLevel YearsCode YearsCodePro  \\\n",
       "0                                           NaN       NaN          NaN   \n",
       "1  Bachelor’s degree (B.A., B.S., B.Eng., etc.)        18            9   \n",
       "\n",
       "       LanguageHaveWorkedWith  \\\n",
       "0                         NaN   \n",
       "1  HTML/CSS;JavaScript;Python   \n",
       "\n",
       "                              LanguageWantToWorkWith  ConvertedCompYearly  \n",
       "0                                                NaN                  NaN  \n",
       "1  Bash/Shell (all shells);C#;Dart;Elixir;GDScrip...             285000.0  "
      ]
     },
     "execution_count": 120,
     "metadata": {},
     "output_type": "execute_result"
    }
   ],
   "source": [
    "df = df.drop(list(df)[23:83], axis=1)\n",
    "df = df.drop(['ResponseId', 'Q120', 'LearnCode', 'LearnCodeOnline', 'LearnCodeCoursesCert', 'DevType', 'OrgSize', \n",
    "              'PurchaseInfluence', 'TechList', 'BuyNewTool', 'Country', 'Currency', 'CompTotal'], axis = 1 )\n",
    "df.head(2)"
   ]
  },
  {
   "cell_type": "code",
   "execution_count": 121,
   "metadata": {},
   "outputs": [
    {
     "name": "stdout",
     "output_type": "stream",
     "text": [
      "    unique_values  counts\n",
      "18           -1.0    1749\n",
      "26            0.0     968\n",
      "23            1.0    1294\n",
      "11            2.0    2826\n",
      "7             3.0    4269\n",
      "5             4.0    4466\n",
      "1             5.0    5415\n",
      "2             6.0    4893\n",
      "4             7.0    4800\n",
      "3             8.0    4879\n",
      "10            9.0    3130\n",
      "0            10.0    6521\n",
      "14           11.0    2519\n",
      "9            12.0    3471\n",
      "13           13.0    2601\n",
      "15           14.0    2278\n",
      "6            15.0    4336\n",
      "17           16.0    1842\n",
      "20           17.0    1544\n",
      "19           18.0    1690\n",
      "28           19.0     826\n",
      "8            20.0    4021\n",
      "29           21.0     761\n",
      "24           22.0    1210\n",
      "21           23.0    1327\n",
      "27           24.0     959\n",
      "12           25.0    2685\n",
      "32           26.0     706\n",
      "31           27.0     710\n",
      "30           28.0     715\n",
      "40           29.0     324\n",
      "16           30.0    2078\n",
      "43           31.0     272\n",
      "34           32.0     444\n",
      "33           33.0     496\n",
      "39           34.0     333\n",
      "25           35.0    1118\n",
      "42           36.0     282\n",
      "41           37.0     312\n",
      "35           38.0     428\n",
      "45           39.0     229\n",
      "22           40.0    1302\n",
      "46           41.0     227\n",
      "38           42.0     347\n",
      "44           43.0     265\n",
      "47           44.0     160\n",
      "36           45.0     360\n",
      "49           46.0     101\n",
      "51           47.0      79\n",
      "50           48.0      96\n",
      "52           49.0      42\n",
      "48           50.0     125\n",
      "37           51.0     353\n"
     ]
    }
   ],
   "source": [
    "#YearsCode\n",
    "\n",
    "df[\"YearsCode\"] = np.where(df[\"YearsCode\"].str.contains('NA'), '-1.0',df[\"YearsCode\"])\n",
    "df[\"YearsCode\"] = np.where(df[\"YearsCode\"].str.contains('Less than 1 year'), '0.0',df[\"YearsCode\"])\n",
    "df[\"YearsCode\"] = np.where(df[\"YearsCode\"].str.contains('More than 50 years'), '51.0',df[\"YearsCode\"])\n",
    "df[\"YearsCode\"] = pd.to_numeric(df[\"YearsCode\"], errors='coerce')\n",
    "counts = df[\"YearsCode\"].value_counts().rename_axis('unique_values').reset_index(name='counts')\n",
    "\n",
    "counts = counts.sort_values(by=['unique_values'])\n",
    "print(counts)"
   ]
  },
  {
   "cell_type": "code",
   "execution_count": 122,
   "metadata": {},
   "outputs": [
    {
     "name": "stdout",
     "output_type": "stream",
     "text": [
      "53\n"
     ]
    },
    {
     "data": {
      "image/png": "[encoded data removed]",
      "text/plain": [
       "<Figure size 640x480 with 1 Axes>"
      ]
     },
     "metadata": {},
     "output_type": "display_data"
    }
   ],
   "source": [
    "unique = counts['unique_values']\n",
    "count1 = counts['counts']\n",
    "print(len(count1))\n",
    "plt.bar(unique, count1)\n",
    "plt.show()"
   ]
  },
  {
   "cell_type": "code",
   "execution_count": 123,
   "metadata": {},
   "outputs": [
    {
     "data": {
      "image/png": "[encoded data removed]",
      "text/plain": [
       "<Figure size 600x400 with 1 Axes>"
      ]
     },
     "metadata": {},
     "output_type": "display_data"
    }
   ],
   "source": [
    "\n",
    "\n",
    "fig, ax = plt.subplots(figsize = (6,4))\n",
    "plt.hist(df[\"YearsCode\"], bins = 52)\n",
    "plt.show()"
   ]
  },
  {
   "cell_type": "code",
   "execution_count": 124,
   "metadata": {},
   "outputs": [
    {
     "name": "stdout",
     "output_type": "stream",
     "text": [
      "[1749, 968, 1294, 2826, 4269, 4466, 5415, 4893, 4800, 4879, 3130, 6521, 2519, 3471, 2601, 2278, 4336, 1842, 1544, 1690, 826, 4021, 761, 1210, 1327, 959, 2685, 706, 710, 715, 324, 2078, 272, 444, 496, 333, 1118, 282, 312, 428, 229, 1302, 227, 347, 265, 160, 360, 101, 79, 96, 42, 125, 353]\n"
     ]
    }
   ],
   "source": [
    "\n",
    "weighting = counts['counts'].tolist()\n",
    "print(weighting)\n"
   ]
  },
  {
   "cell_type": "code",
   "execution_count": 130,
   "metadata": {},
   "outputs": [
    {
     "data": {
      "image/png": "[encoded data removed]",
      "text/plain": [
       "<Figure size 640x480 with 1 Axes>"
      ]
     },
     "metadata": {},
     "output_type": "display_data"
    }
   ],
   "source": [
    "import random\n",
    "s_list = []\n",
    "for i in range(-1,52):\n",
    "        s_list.append(i)\n",
    "\n",
    "r_list = random.choices(s_list, weights=(weighting), k=10000)\n",
    "#print(len(weight))\n",
    "\n",
    "\n",
    "plt.hist(r_list, bins = 53)\n",
    "plt.show()\n"
   ]
  },
  {
   "cell_type": "code",
   "execution_count": null,
   "metadata": {},
   "outputs": [],
   "source": []
  },
  {
   "cell_type": "code",
   "execution_count": null,
   "metadata": {},
   "outputs": [],
   "source": []
  }
 ],
 "metadata": {
  "kernelspec": {
   "display_name": "base",
   "language": "python",
   "name": "python3"
  },
  "language_info": {
   "codemirror_mode": {
    "name": "ipython",
    "version": 3
   },
   "file_extension": ".py",
   "mimetype": "text/x-python",
   "name": "python",
   "nbconvert_exporter": "python",
   "pygments_lexer": "ipython3",
   "version": "3.10.9"
  }
 },
 "nbformat": 4,
 "nbformat_minor": 2
}
