{
 "cells": [
  {
   "cell_type": "markdown",
   "metadata": {},
   "source": [
    "# Project 2\n",
    "#### Problem Statement\n",
    "\n",
    "> An analysis of paleo-present climate data\n",
    ">\n",
    "> * Analyse CO2 vs Temperature Anomaly from 800kyrs – present.\n",
    "> * Examine one other (paleo/modern) features (e.g. CH4 or polar ice-coverage)\n",
    "> * Examine Irish context:\n",
    ">   * Climate change signals: (see Maynooth study: The emergence of a climate change signal in long-term Irish meteorological observations - ScienceDirect)\n",
    "> * Fuse and analyse data from various data sources and format fused data set as a pandas dataframe and export to csv and json formats\n",
    "> * For all of the above variables, analyse the data, the trends and the relationships between them (temporal leads/lags/frequency      analysis).\n",
    "> * Predict global temperature anomaly over next few decades (synthesise data) and compare to published climate models if atmospheric CO2 trends continue\n",
    "> * Comment on accelerated warming based on very latest features (e.g. temperature/polar-icecoverage)\n",
    ">\n",
    "> Use a Jupyter notebook for your analysis and track your progress using GitHub.\n",
    ">\n",
    "> Use an academic referencing style\n"
   ]
  },
  {
   "cell_type": "markdown",
   "metadata": {},
   "source": [
    "Install xlrd in anaconda to allow pandas to read .xls files\n",
    ">> conda install -c anaconda xlrd\n",
    "https://anaconda.org/anaconda/xlrd"
   ]
  },
  {
   "cell_type": "code",
   "execution_count": 4,
   "metadata": {},
   "outputs": [],
   "source": [
    "import pandas as pd\n",
    "import numpy as np\n",
    "from pathlib import Path  \n",
    "\n",
    "# Download xl files and create csv files\n",
    "# CO2 data from Luthi et al. 2008 Nature Paper\n",
    "url1 = 'data/41586_2008_BFnature06949_MOESM31_ESM.xls'\n",
    "filepath1 = 'data/2008_nature_new_CO2_data.csv'\n",
    "filepath2 = 'data/2008_nature_Vostok_TD_Dome_C.csv'\n",
    "filepath3 = 'data/2008_nature_Composite_CO2.csv'\n",
    "df1=pd.read_excel(url1, '1.  new CO2 data')\n",
    "df2=pd.read_excel(url1, '2.  Vostok-TD-Dome C')\n",
    "df3=pd.read_excel(url1, '3.  Composite CO2')\n",
    "\n",
    "df1.to_csv(filepath1)\n",
    "df2.to_csv(filepath2)\n",
    "df3.to_csv(filepath3)\n",
    "\n",
    "# CO2 data from IPCC Report\n",
    "url2 = 'data/grl52461-sup-0003-supplementary.xls'\n",
    "# Temperature Data from Jouzel - epicaDC.deuttemp.EDC3-AICC\n",
    "url3 = 'data/epicaDC.deuttemp.EDC3-AICC.xls'\n",
    "# Temperature Data from NOAA\n",
    "url4 = 'data/edc3deuttemp2007.txt'\n"
   ]
  },
  {
   "cell_type": "code",
   "execution_count": 13,
   "metadata": {},
   "outputs": [
    {
     "name": "stdout",
     "output_type": "stream",
     "text": [
      "     Bag,ztop,Age,Deuterium,Temperature\n",
      "0                             1,0,-50,,\n",
      "1                    2,0.55,-43.54769,,\n",
      "2                     3,1.1,-37.41829,,\n",
      "3                    4,1.65,-31.61153,,\n",
      "4                     5,2.2,-24.51395,,\n",
      "...                                 ...\n",
      "5795   5796,3187.25,797408,-440.2,-8.73\n",
      "5796      5797,3187.8,798443,-439,-8.54\n",
      "5797   5798,3188.35,799501,-441.1,-8.88\n",
      "5798   5799,3188.9,800589,-441.42,-8.92\n",
      "5799   5800,3189.45,801662,-440.9,-8.82\n",
      "\n",
      "[5800 rows x 1 columns]\n"
     ]
    }
   ],
   "source": [
    "# read text file into pandas DataFrame\n",
    "df = pd.read_csv('data/edc3deuttemp_2007.csv', sep=' ')\n",
    " \n",
    "# display DataFrame\n",
    "print(df)"
   ]
  },
  {
   "cell_type": "code",
   "execution_count": null,
   "metadata": {},
   "outputs": [],
   "source": []
  }
 ],
 "metadata": {
  "kernelspec": {
   "display_name": "base",
   "language": "python",
   "name": "python3"
  },
  "language_info": {
   "codemirror_mode": {
    "name": "ipython",
    "version": 3
   },
   "file_extension": ".py",
   "mimetype": "text/x-python",
   "name": "python",
   "nbconvert_exporter": "python",
   "pygments_lexer": "ipython3",
   "version": "3.10.9"
  }
 },
 "nbformat": 4,
 "nbformat_minor": 2
}
