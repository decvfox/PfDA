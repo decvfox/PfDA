{
 "cells": [
  {
   "cell_type": "markdown",
   "metadata": {},
   "source": [
    "# Project 2\n",
    "#### Problem Statement\n",
    "\n",
    "> An analysis of paleo-present climate data\n",
    ">\n",
    "> * Analyse CO2 vs Temperature Anomaly from 800kyrs – present.\n",
    "> * Examine one other (paleo/modern) features (e.g. CH4 or polar ice-coverage)\n",
    "> * Examine Irish context:\n",
    ">   * Climate change signals: (see Maynooth study: The emergence of a climate change signal in long-term Irish meteorological observations - ScienceDirect)\n",
    "> * Fuse and analyse data from various data sources and format fused data set as a pandas dataframe and export to csv and json formats\n",
    "> * For all of the above variables, analyse the data, the trends and the relationships between them (temporal leads/lags/frequency      analysis).\n",
    "> * Predict global temperature anomaly over next few decades (synthesise data) and compare to published climate models if atmospheric CO2 trends continue\n",
    "> * Comment on accelerated warming based on very latest features (e.g. temperature/polar-icecoverage)\n",
    ">\n",
    "> Use a Jupyter notebook for your analysis and track your progress using GitHub.\n",
    ">\n",
    "> Use an academic referencing style\n"
   ]
  }
 ],
 "metadata": {
  "language_info": {
   "name": "python"
  }
 },
 "nbformat": 4,
 "nbformat_minor": 2
}
