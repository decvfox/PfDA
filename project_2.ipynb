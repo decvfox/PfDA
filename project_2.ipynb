{
 "cells": [
  {
   "cell_type": "markdown",
   "metadata": {},
   "source": [
    "# Project 2\n",
    "#### Problem Statement\n",
    "\n",
    "> An analysis of paleo-present climate data\n",
    ">\n",
    "> * Analyse CO2 vs Temperature Anomaly from 800kyrs – present.\n",
    "> * Examine one other (paleo/modern) features (e.g. CH4 or polar ice-coverage)\n",
    "> * Examine Irish context:\n",
    ">   * Climate change signals: (see Maynooth study: The emergence of a climate change signal in long-term Irish meteorological observations - ScienceDirect)\n",
    "> * Fuse and analyse data from various data sources and format fused data set as a pandas dataframe and export to csv and json formats\n",
    "> * For all of the above variables, analyse the data, the trends and the relationships between them (temporal leads/lags/frequency      analysis).\n",
    "> * Predict global temperature anomaly over next few decades (synthesise data) and compare to published climate models if atmospheric CO2 trends continue\n",
    "> * Comment on accelerated warming based on very latest features (e.g. temperature/polar-icecoverage)\n",
    ">\n",
    "> Use a Jupyter notebook for your analysis and track your progress using GitHub.\n",
    ">\n",
    "> Use an academic referencing style\n"
   ]
  },
  {
   "cell_type": "code",
   "execution_count": 1,
   "metadata": {},
   "outputs": [],
   "source": [
    "# Import the following libraries\n",
    "import pandas as pd\n",
    "import numpy as np\n",
    "from pathlib import Path  "
   ]
  },
  {
   "cell_type": "markdown",
   "metadata": {},
   "source": [
    "Install xlrd in anaconda to allow pandas to read .xls files\\\n",
    "use the following command: conda install -c anaconda xlrd\\\n",
    "https://anaconda.org/anaconda/xlrd"
   ]
  },
  {
   "cell_type": "code",
   "execution_count": 4,
   "metadata": {},
   "outputs": [],
   "source": [
    "# Example of how to download xl files and create csv files\n",
    "\n",
    "# CO2 data from Luthi et al. 2008 Nature Paper\n",
    "url = 'data/41586_2008_BFnature06949_MOESM31_ESM.xls'\n",
    "\n",
    "Sheet1 = 'data/csv_files/2008_nature_new_CO2_data.csv'\n",
    "Sheet2 = 'data/csv_files/2008_nature_Vostok_TD_Dome_C.csv'\n",
    "Sheet3 = 'data/csv_files/2008_nature_Composite_CO2.csv'\n",
    "df1=pd.read_excel(url, '1.  new CO2 data')\n",
    "df2=pd.read_excel(url, '2.  Vostok-TD-Dome C')\n",
    "df3=pd.read_excel(url, '3.  Composite CO2')\n",
    "\n",
    "df1.to_csv(Sheet1)\n",
    "df2.to_csv(Sheet2)\n",
    "df3.to_csv(Sheet3)\n"
   ]
  },
  {
   "cell_type": "code",
   "execution_count": null,
   "metadata": {},
   "outputs": [],
   "source": []
  },
  {
   "cell_type": "code",
   "execution_count": null,
   "metadata": {},
   "outputs": [],
   "source": []
  }
 ],
 "metadata": {
  "kernelspec": {
   "display_name": "base",
   "language": "python",
   "name": "python3"
  },
  "language_info": {
   "codemirror_mode": {
    "name": "ipython",
    "version": 3
   },
   "file_extension": ".py",
   "mimetype": "text/x-python",
   "name": "python",
   "nbconvert_exporter": "python",
   "pygments_lexer": "ipython3",
   "version": "3.10.9"
  }
 },
 "nbformat": 4,
 "nbformat_minor": 2
}
