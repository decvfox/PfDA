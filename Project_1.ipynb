{
 "cells": [
  {
   "cell_type": "markdown",
   "metadata": {},
   "source": [
    "# Project 1\n",
    "### Problem statement\n",
    "For this project you must create a data set by simulating a real-world phenomenon of\n",
    "your choosing. You may pick any phenomenon you wish – you might pick one that is\n",
    "of interest to you in your personal or professional life. Then, rather than collect data\n",
    "related to the phenomenon, you should model and synthesise such data using Python."
   ]
  },
  {
   "cell_type": "markdown",
   "metadata": {},
   "source": [
    "I've decided to look at the stack overflow annual survey for 2023 results of which are available here https://survey.stackoverflow.co/2023/"
   ]
  },
  {
   "cell_type": "code",
   "execution_count": 1,
   "metadata": {},
   "outputs": [],
   "source": [
    "import numpy as np\n",
    "import pandas as pd\n",
    "import matplotlib.pyplot as plt\n",
    "import seaborn as sns\n",
    "from zipfile import ZipFile\n",
    "import io\n",
    "from urllib.request import urlopen\n",
    "import re"
   ]
  },
  {
   "cell_type": "markdown",
   "metadata": {},
   "source": [
    "Download Stack Overflow Annual survey 2023"
   ]
  },
  {
   "cell_type": "code",
   "execution_count": 2,
   "metadata": {},
   "outputs": [],
   "source": [
    "r = urlopen('https://cdn.stackoverflow.co/files/jo7n4k8s/production/49915bfd46d0902c3564fd9a06b509d08a20488c.zip/stack-overflow-developer-survey-2023.zip').read()\n",
    "file = ZipFile(io.BytesIO(r))\n",
    "df = pd.read_csv(file.open('survey_results_public.csv'))"
   ]
  },
  {
   "cell_type": "markdown",
   "metadata": {},
   "source": [
    "Let's get rid of the columns we are not interested in."
   ]
  },
  {
   "cell_type": "code",
   "execution_count": 3,
   "metadata": {},
   "outputs": [],
   "source": [
    "df = df.drop(list(df)[23:83], axis=1)\n",
    "df = df.drop(['ResponseId', 'Q120', 'LearnCode', 'LearnCodeOnline', 'LearnCodeCoursesCert', 'DevType', 'OrgSize', \n",
    "              'PurchaseInfluence', 'TechList', 'BuyNewTool', 'Country', 'Currency', 'CompTotal'], axis = 1 )"
   ]
  },
  {
   "cell_type": "markdown",
   "metadata": {},
   "source": [
    "I am interested in only developers likely to be in the job market, so 25 to 64 year olds will be close enough."
   ]
  },
  {
   "cell_type": "code",
   "execution_count": 4,
   "metadata": {},
   "outputs": [],
   "source": [
    "df.drop(df.loc[df['Age']=='18-24 years old'].index, inplace=True)\n",
    "df.drop(df.loc[df['Age']=='Under 18 years old'].index, inplace=True)\n",
    "df.drop(df.loc[df['Age']=='65 years or older'].index, inplace=True)\n",
    "df.drop(df.loc[df['Age']=='Prefer not to say'].index, inplace=True)"
   ]
  },
  {
   "cell_type": "markdown",
   "metadata": {},
   "source": [
    "I'm interested in python when it comes to languages so we'll create a row fpr those who used Python in the past year"
   ]
  },
  {
   "cell_type": "code",
   "execution_count": 5,
   "metadata": {},
   "outputs": [],
   "source": [
    "\n",
    "df[\"worked_with_python\"] = df[\"LanguageHaveWorkedWith\"]\n",
    "df[\"worked_with_python\"] = np.where(df[\"worked_with_python\"].str.contains('Python'), 'Y',df[\"worked_with_python\"])\n",
    "chars_to_remove = ['Ada', 'Apex', 'APL', 'Assembly', 'Bash/Shell (all shells)', 'C', 'C#', 'C++', 'Clojure', 'Cobol', 'Crystal', 'Dart', 'Delphi', \n",
    "                   'Elixir', 'Erlang', 'F#', 'Flow', 'Fortran', 'GDScript', 'Go', 'Groovy', 'Haskell', 'HTML/CSS', 'Java', 'JavaScript', 'Julia', \n",
    "                   'Kotlin', 'Lisp', 'Lua', 'MATLAB', 'Nim', 'Objective-C', 'OCaml', 'Perl', 'PHP', 'PowerShell', 'Prolog', 'R', 'Raku', 'Ruby', \n",
    "                   'Rust', 'SAS', 'Scala', 'Solidity', 'SQL', 'Swift', 'TypeScript', 'VBA', 'Visual Basic (.Net)', 'Zig', ';']\n",
    "regular_expression = '[' + re.escape (''. join (chars_to_remove)) + ']'\n",
    "df[\"worked_with_python\"] = df[\"worked_with_python\"].str.replace(regular_expression, '', regex=True)\n",
    "df[\"worked_with_python\"] = df[\"worked_with_python\"].replace(r'^\\s*$', 'N', regex=True)\n"
   ]
  },
  {
   "cell_type": "markdown",
   "metadata": {},
   "source": [
    "Let's do the same for those who want to work with python in the future"
   ]
  },
  {
   "cell_type": "code",
   "execution_count": 6,
   "metadata": {},
   "outputs": [],
   "source": [
    "df[\"want_to_python\"] = df[\"LanguageWantToWorkWith\"]\n",
    "df[\"want_to_python\"] = np.where(df[\"want_to_python\"].str.contains('Python'), 'Y',df[\"want_to_python\"])\n",
    "chars_to_remove = ['Ada', 'Apex', 'APL', 'Assembly', 'Bash/Shell (all shells)', 'C', 'C#', 'C++', 'Clojure', 'Cobol', 'Crystal', 'Dart', 'Delphi', \n",
    "                   'Elixir', 'Erlang', 'F#', 'Flow', 'Fortran', 'GDScript', 'Go', 'Groovy', 'Haskell', 'HTML/CSS', 'Java', 'JavaScript', 'Julia', \n",
    "                   'Kotlin', 'Lisp', 'Lua', 'MATLAB', 'Nim', 'Objective-C', 'OCaml', 'Perl', 'PHP', 'PowerShell', 'Prolog', 'R', 'Raku', 'Ruby', \n",
    "                   'Rust', 'SAS', 'Scala', 'Solidity', 'SQL', 'Swift', 'TypeScript', 'VBA', 'Visual Basic (.Net)', 'Zig', ';']\n",
    "regular_expression = '[' + re.escape (''. join (chars_to_remove)) + ']'\n",
    "df[\"want_to_python\"] = df[\"want_to_python\"].str.replace(regular_expression, '', regex=True)\n",
    "df[\"want_to_python\"] = df[\"want_to_python\"].replace(r'^\\s*$', 'N', regex=True)"
   ]
  },
  {
   "cell_type": "markdown",
   "metadata": {},
   "source": [
    "Create a function to reuse this code"
   ]
  },
  {
   "cell_type": "markdown",
   "metadata": {},
   "source": [
    "let's drop the old language columns"
   ]
  },
  {
   "cell_type": "code",
   "execution_count": 7,
   "metadata": {},
   "outputs": [
    {
     "data": {
      "text/html": [
       "<div>\n",
       "<style scoped>\n",
       "    .dataframe tbody tr th:only-of-type {\n",
       "        vertical-align: middle;\n",
       "    }\n",
       "\n",
       "    .dataframe tbody tr th {\n",
       "        vertical-align: top;\n",
       "    }\n",
       "\n",
       "    .dataframe thead th {\n",
       "        text-align: right;\n",
       "    }\n",
       "</style>\n",
       "<table border=\"1\" class=\"dataframe\">\n",
       "  <thead>\n",
       "    <tr style=\"text-align: right;\">\n",
       "      <th></th>\n",
       "      <th>MainBranch</th>\n",
       "      <th>Age</th>\n",
       "      <th>Employment</th>\n",
       "      <th>RemoteWork</th>\n",
       "      <th>CodingActivities</th>\n",
       "      <th>EdLevel</th>\n",
       "      <th>YearsCode</th>\n",
       "      <th>YearsCodePro</th>\n",
       "      <th>ConvertedCompYearly</th>\n",
       "      <th>worked_with_python</th>\n",
       "      <th>want_to_python</th>\n",
       "    </tr>\n",
       "  </thead>\n",
       "  <tbody>\n",
       "    <tr>\n",
       "      <th>1</th>\n",
       "      <td>I am a developer by profession</td>\n",
       "      <td>25-34 years old</td>\n",
       "      <td>Employed, full-time</td>\n",
       "      <td>Remote</td>\n",
       "      <td>Hobby;Contribute to open-source projects;Boots...</td>\n",
       "      <td>Bachelor’s degree (B.A., B.S., B.Eng., etc.)</td>\n",
       "      <td>18</td>\n",
       "      <td>9</td>\n",
       "      <td>285000.0</td>\n",
       "      <td>Y</td>\n",
       "      <td>N</td>\n",
       "    </tr>\n",
       "    <tr>\n",
       "      <th>2</th>\n",
       "      <td>I am a developer by profession</td>\n",
       "      <td>45-54 years old</td>\n",
       "      <td>Employed, full-time</td>\n",
       "      <td>Hybrid (some remote, some in-person)</td>\n",
       "      <td>Hobby;Professional development or self-paced l...</td>\n",
       "      <td>Bachelor’s degree (B.A., B.S., B.Eng., etc.)</td>\n",
       "      <td>27</td>\n",
       "      <td>23</td>\n",
       "      <td>250000.0</td>\n",
       "      <td>N</td>\n",
       "      <td>N</td>\n",
       "    </tr>\n",
       "  </tbody>\n",
       "</table>\n",
       "</div>"
      ],
      "text/plain": [
       "                       MainBranch              Age           Employment  \\\n",
       "1  I am a developer by profession  25-34 years old  Employed, full-time   \n",
       "2  I am a developer by profession  45-54 years old  Employed, full-time   \n",
       "\n",
       "                             RemoteWork  \\\n",
       "1                                Remote   \n",
       "2  Hybrid (some remote, some in-person)   \n",
       "\n",
       "                                    CodingActivities  \\\n",
       "1  Hobby;Contribute to open-source projects;Boots...   \n",
       "2  Hobby;Professional development or self-paced l...   \n",
       "\n",
       "                                        EdLevel YearsCode YearsCodePro  \\\n",
       "1  Bachelor’s degree (B.A., B.S., B.Eng., etc.)        18            9   \n",
       "2  Bachelor’s degree (B.A., B.S., B.Eng., etc.)        27           23   \n",
       "\n",
       "   ConvertedCompYearly worked_with_python want_to_python  \n",
       "1             285000.0                  Y              N  \n",
       "2             250000.0                  N              N  "
      ]
     },
     "execution_count": 7,
     "metadata": {},
     "output_type": "execute_result"
    }
   ],
   "source": [
    "df = df.drop(['LanguageHaveWorkedWith', 'LanguageWantToWorkWith'], axis = 1 )\n",
    "df.head(2)"
   ]
  },
  {
   "cell_type": "markdown",
   "metadata": {},
   "source": [
    "graphs\n"
   ]
  },
  {
   "cell_type": "code",
   "execution_count": 8,
   "metadata": {},
   "outputs": [
    {
     "name": "stdout",
     "output_type": "stream",
     "text": [
      "N    35513\n",
      "Y    29992\n",
      "Name: worked_with_python, dtype: int64\n"
     ]
    },
    {
     "data": {
      "image/png": "[encoded data removed]",
      "text/plain": [
       "<Figure size 640x480 with 1 Axes>"
      ]
     },
     "metadata": {},
     "output_type": "display_data"
    }
   ],
   "source": [
    "counts = df[\"worked_with_python\"].value_counts()\n",
    "print(counts)\n",
    "unique = 'N', 'Y'\n",
    "# we can now put this into a Bar Chart\n",
    "plt.bar(unique, counts)\n",
    "plt.show()"
   ]
  },
  {
   "cell_type": "code",
   "execution_count": 9,
   "metadata": {},
   "outputs": [
    {
     "name": "stdout",
     "output_type": "stream",
     "text": [
      "N    35297\n",
      "Y    30208\n",
      "Name: want_to_python, dtype: int64\n"
     ]
    },
    {
     "data": {
      "image/png": "[encoded data removed]",
      "text/plain": [
       "<Figure size 640x480 with 1 Axes>"
      ]
     },
     "metadata": {},
     "output_type": "display_data"
    }
   ],
   "source": [
    "counts1 = df[\"want_to_python\"].value_counts()\n",
    "print(counts1)\n",
    "unique = 'N', 'Y'\n",
    "# we can now put this into a Bar Chart\n",
    "plt.bar(unique, counts1)\n",
    "plt.show()"
   ]
  },
  {
   "cell_type": "code",
   "execution_count": 10,
   "metadata": {},
   "outputs": [
    {
     "name": "stdout",
     "output_type": "stream",
     "text": [
      "25-34 years old    33247\n",
      "35-44 years old    20532\n",
      "45-54 years old     8334\n",
      "55-64 years old     3392\n",
      "Name: Age, dtype: int64\n"
     ]
    }
   ],
   "source": [
    "counts = df[\"Age\"].value_counts()\n",
    "print(counts)"
   ]
  },
  {
   "cell_type": "code",
   "execution_count": 11,
   "metadata": {},
   "outputs": [
    {
     "data": {
      "image/png": "[encoded data removed]",
      "text/plain": [
       "<Figure size 640x480 with 1 Axes>"
      ]
     },
     "metadata": {},
     "output_type": "display_data"
    }
   ],
   "source": [
    "counts = df[\"Age\"].value_counts()\n",
    "unique = '25-34', '35-44 years old', '45-54 years old', '55-64 years old' \n",
    "# we can now put this into a Bar Chart\n",
    "plt.bar(unique, counts)\n",
    "plt.show()"
   ]
  },
  {
   "cell_type": "code",
   "execution_count": 12,
   "metadata": {},
   "outputs": [
    {
     "name": "stdout",
     "output_type": "stream",
     "text": [
      "    unique_values  counts\n",
      "23            0.0    1016\n",
      "34            0.5     422\n",
      "31            1.0     490\n",
      "25            2.0     879\n",
      "18            3.0    1382\n",
      "16            4.0    1540\n",
      "9             5.0    2265\n",
      "12            6.0    2153\n",
      "5             7.0    2718\n",
      "3             8.0    3210\n",
      "8             9.0    2296\n",
      "0            10.0    5326\n",
      "11           11.0    2157\n",
      "4            12.0    3164\n",
      "7            13.0    2465\n",
      "10           14.0    2199\n",
      "1            15.0    4266\n",
      "14           16.0    1814\n",
      "17           17.0    1529\n",
      "15           18.0    1686\n",
      "26           19.0     824\n",
      "2            20.0    3983\n",
      "27           21.0     757\n",
      "20           22.0    1203\n",
      "19           23.0    1320\n",
      "24           24.0     952\n",
      "6            25.0    2659\n",
      "29           26.0     702\n",
      "30           27.0     700\n",
      "28           28.0     711\n",
      "37           29.0     321\n",
      "13           30.0    2007\n",
      "42           31.0     269\n",
      "33           32.0     439\n",
      "32           33.0     480\n",
      "38           34.0     320\n",
      "22           35.0    1080\n",
      "40           36.0     277\n",
      "39           37.0     304\n",
      "35           38.0     412\n",
      "44           39.0     221\n",
      "21           40.0    1148\n",
      "45           41.0     211\n",
      "36           42.0     323\n",
      "43           43.0     229\n",
      "46           44.0     140\n",
      "41           45.0     275\n",
      "47           46.0      70\n",
      "49           47.0      47\n",
      "48           48.0      53\n",
      "52           49.0      21\n",
      "51           50.0      35\n",
      "50           51.0      35\n"
     ]
    }
   ],
   "source": [
    "#YearsCode\n",
    "\n",
    "df[\"YearsCode\"] = np.where(df[\"YearsCode\"].str.contains('NA'), '0.0',df[\"YearsCode\"])\n",
    "df[\"YearsCode\"] = np.where(df[\"YearsCode\"].str.contains('Less than 1 year'), '0.5',df[\"YearsCode\"])\n",
    "df[\"YearsCode\"] = np.where(df[\"YearsCode\"].str.contains('More than 50 years'), '51.0',df[\"YearsCode\"])\n",
    "counts = df[\"YearsCode\"].value_counts().rename_axis('unique_values').reset_index(name='counts')\n",
    "counts['unique_values'] = pd.to_numeric(counts['unique_values'], errors='coerce')\n",
    "counts = counts.sort_values(by=['unique_values'])\n",
    "print(counts)"
   ]
  },
  {
   "cell_type": "code",
   "execution_count": 13,
   "metadata": {},
   "outputs": [
    {
     "data": {
      "image/png": "[encoded data removed]",
      "text/plain": [
       "<Figure size 640x480 with 1 Axes>"
      ]
     },
     "metadata": {},
     "output_type": "display_data"
    }
   ],
   "source": [
    "unique = counts['unique_values']\n",
    "count1 = counts['counts']\n",
    "plt.bar(unique, count1)\n",
    "plt.show()"
   ]
  }
 ],
 "metadata": {
  "kernelspec": {
   "display_name": "base",
   "language": "python",
   "name": "python3"
  },
  "language_info": {
   "codemirror_mode": {
    "name": "ipython",
    "version": 3
   },
   "file_extension": ".py",
   "mimetype": "text/x-python",
   "name": "python",
   "nbconvert_exporter": "python",
   "pygments_lexer": "ipython3",
   "version": "3.10.9"
  }
 },
 "nbformat": 4,
 "nbformat_minor": 2
}
